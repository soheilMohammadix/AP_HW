{
  "nbformat": 4,
  "nbformat_minor": 0,
  "metadata": {
    "colab": {
      "provenance": [],
      "authorship_tag": "ABX9TyMDhL3TW638cMJFeP+ZYevc",
      "include_colab_link": true
    },
    "kernelspec": {
      "name": "python3",
      "display_name": "Python 3"
    },
    "language_info": {
      "name": "python"
    }
  },
  "cells": [
    {
      "cell_type": "markdown",
      "metadata": {
        "id": "view-in-github",
        "colab_type": "text"
      },
      "source": [
        "<a href=\"https://colab.research.google.com/github/soheilmohammadi1/AP_HW/blob/main/week_4.ipynb\" target=\"_parent\"><img src=\"https://colab.research.google.com/assets/colab-badge.svg\" alt=\"Open In Colab\"/></a>"
      ]
    },
    {
      "cell_type": "markdown",
      "source": [
        "1 - yes\n",
        "\n",
        "2 - the expression list[-1] represents the last element\n",
        "\n",
        "3 - [45, -3 16, 8]\n",
        "\n",
        "4 -  \n",
        "(a) lst[0]\n",
        "\n",
        "(b) lst[-1]\n",
        "\n",
        "(c) 10\n",
        "\n",
        "(d) 20\n",
        "\n",
        "(e) -4\n",
        "\n",
        "(f) 29\n",
        "\n",
        "(g) 10\n",
        "\n",
        "(h) it's illegal because it can only be an integer\n",
        "\n",
        "5 - \n",
        "(a) - 3\n",
        "\n",
        "(b) - 5\n",
        "\n",
        "(c) - 1\n",
        "\n",
        "(d) - 5\n",
        "\n",
        "(e) - 5\n",
        "\n",
        "(f) - 2\n",
        "\n",
        "(g) - 0\n",
        "\n",
        "(h) - 3\n",
        "\n",
        "6 - len()\n",
        "\n",
        "7 - []\n",
        "\n",
        "8 - \n",
        "(a) [20, 1, -34, 40, -8, 60, 1, 3]\n",
        "\n",
        "(b) [20, 1, -34]\n",
        "\n",
        "(c) [-8, 60, 1 , 3]\n",
        "\n",
        "(d) [-8, 60 , 1 , 3]\n",
        "\n",
        "(e) [40, -8]\n",
        "\n",
        "(f) [20, 1, -34]\n",
        "\n",
        "(g) [-8, 60, 1, 3]\n",
        "\n",
        "(h) [20, 1, -34, 40, -8, 60, 1, 30]\n",
        "\n",
        "(i) [20, 1 , -34, 40]\n",
        "\n",
        "(j) [1, -34, 40, -8]\n",
        "\n",
        "(k) True\n",
        "\n",
        "(L) False\n",
        "\n",
        "(m) 8\n",
        "\n",
        "9 - \n",
        "I couldn't do it \n",
        "\n",
        "10 - \n",
        "(a) [8,8,8,8]\n",
        "\n",
        "(b) [2,7,2,7,2,7,2,7,2,7,2,7]\n",
        "\n",
        "(c) [1,2,3,'a','b','c']\n",
        "\n",
        "(d) [1,2,1,2,1,2,4,2]\n",
        "\n",
        "(e) [1,2,4,2,1,2,4,2,1,2,4,2]\n",
        "\n",
        "11 - \n",
        "(a) [3,5,7,9]\n",
        "\n",
        "(b) [50,60,70,80,90]\n",
        "\n",
        "(c) [12,15,18]\n",
        "\n",
        "(d) [(0,0),(0,1),(0,2),(0,3),(1,0),(1,2),(1,3),(2,0),(2,1),(2,2),(2,3)]\n",
        "\n",
        "(e) [(0,0),(0,2),(1,1),(1,3),(2,0),(2,2)]\n",
        "\n",
        "12 -\n",
        "\n",
        "(a) [i**2 for i in range(1,6)]\n",
        "\n",
        "(b) [i/4 for i in range(1,7)]\n",
        "\n",
        "(c) [(x,y) for x in 'ab' for y in range(3)]\n",
        "\n",
        "13 - x i lst\n",
        "\n",
        "14 - The built-in reversed function in Python is used to reverse a sequence like a list, string, or tuple by creating a reverse iterator of the given sequence.\n",
        "\n",
        "23 - I didn't understand the question"
      ],
      "metadata": {
        "id": "yiIcheazWrkJ"
      }
    },
    {
      "cell_type": "code",
      "source": [
        "# 15 \n",
        "def sum_positive(a):\n",
        "    _sum = 0\n",
        "    for i in a:\n",
        "        if i > 0:\n",
        "            _sum += i\n",
        "    return _sum\n"
      ],
      "metadata": {
        "id": "_GcU5qScXiVz"
      },
      "execution_count": null,
      "outputs": []
    },
    {
      "cell_type": "code",
      "source": [
        "# 16\n",
        "def count_evens(a):\n",
        "    count = 0\n",
        "    for i in a:\n",
        "        if i % 2 == 0:\n",
        "            count += 1\n",
        "    return count"
      ],
      "metadata": {
        "id": "XlfjDGSashV_"
      },
      "execution_count": null,
      "outputs": []
    },
    {
      "cell_type": "code",
      "source": [
        "# 17 \n",
        "def print_big_enough(lst, num):\n",
        "    for i in lst:\n",
        "        if i > num:\n",
        "            print(i)"
      ],
      "metadata": {
        "id": "XLghav9cumqc"
      },
      "execution_count": null,
      "outputs": []
    },
    {
      "cell_type": "code",
      "source": [
        "# 18 \n",
        "def next_number(lst):\n",
        "    for i in range(min(lst), max(lst)):\n",
        "        if i not in lst:\n",
        "            return i"
      ],
      "metadata": {
        "id": "NmQ4cbJruo5k"
      },
      "execution_count": null,
      "outputs": []
    },
    {
      "cell_type": "code",
      "source": [
        "# 19\n",
        "def reverse_list(lst):\n",
        "    left = 0\n",
        "    right = len(lst) - 1\n",
        "    while left < right:\n",
        "        lst[left], lst[right] = lst[right], lst[left]\n",
        "        left += 1\n",
        "        right -= 1\n",
        "    return lst"
      ],
      "metadata": {
        "id": "Iwc3waNJu4FA"
      },
      "execution_count": null,
      "outputs": []
    },
    {
      "cell_type": "code",
      "source": [
        "# 20\n",
        "m = [[1] * 9 for i in range(6)]\n",
        "for row in m:\n",
        "    for item in row:\n",
        "        print(item, end=' ')\n",
        "    print()\n",
        "m[2][4] = 0\n",
        "print()\n",
        "for row in m:\n",
        "    for item in row:\n",
        "        print(item, end=' ')\n",
        "    print()"
      ],
      "metadata": {
        "id": "7nGxqGpwvYS5"
      },
      "execution_count": null,
      "outputs": []
    },
    {
      "cell_type": "code",
      "source": [
        "# 21 \n",
        "lst = [1, 2, 3, 4, 5, 6, 7, 8, 9, 10]\n",
        "lst = [i for i in range(1, 11)]\n",
        "lst = list(range(1, 11))\n",
        "lst = []\n",
        "for i in range(1, 11):\n",
        "    lst.append(i)\n",
        "lst = [1,2,3,4,5] + [x for x in range(6, 11)]"
      ],
      "metadata": {
        "id": "xf58nhYrxqnd"
      },
      "execution_count": null,
      "outputs": []
    },
    {
      "cell_type": "code",
      "source": [
        "# 22\n",
        "def check_row_equals_column(m):\n",
        "    for i in range(len(m)):\n",
        "        for j in range(len(m[i])):\n",
        "            if m[i][j] != m[j][i]:\n",
        "                return False\n",
        "    return True"
      ],
      "metadata": {
        "id": "mYdVKeU_yYVE"
      },
      "execution_count": null,
      "outputs": []
    }
  ]
}