{
  "nbformat": 4,
  "nbformat_minor": 0,
  "metadata": {
    "colab": {
      "provenance": [],
      "authorship_tag": "ABX9TyO0pWzlQw2CHY5nGVxCSN84",
      "include_colab_link": true
    },
    "kernelspec": {
      "name": "python3",
      "display_name": "Python 3"
    },
    "language_info": {
      "name": "python"
    }
  },
  "cells": [
    {
      "cell_type": "markdown",
      "metadata": {
        "id": "view-in-github",
        "colab_type": "text"
      },
      "source": [
        "<a href=\"https://colab.research.google.com/github/soheilmohammadi1/AP_HW/blob/main/week_7.ipynb\" target=\"_parent\"><img src=\"https://colab.research.google.com/assets/colab-badge.svg\" alt=\"Open In Colab\"/></a>"
      ]
    },
    {
      "cell_type": "code",
      "source": [
        "class Car:\n",
        "\n",
        "    def __init__(self, make, model, year):\n",
        "        self.make = make\n",
        "        self.model = model\n",
        "        self.year = year\n",
        "        self.odometer_reading = 0\n",
        "\n",
        "    def get_descriptive_name(self):\n",
        "        long_name = str(self.year) + ' ' + self.make + ' ' + self.model\n",
        "        return long_name.title()\n",
        "\n",
        "    def read_odometer(self):\n",
        "        print(\"This car has \" + str(self.odometer_reading) + \" miles on it.\")\n",
        "\n",
        "    def update_odometer(self, mileage):\n",
        "        if mileage >= self.odometer_reading:\n",
        "            self.odometer_reading = mileage\n",
        "        else:\n",
        "            print(\"You can't roll back an odometer!\")\n",
        "\n",
        "    def increment_odometer(self, miles):\n",
        "        self.odometer_reading += miles\n",
        "\n",
        "\n",
        "class Battery:\n",
        "\n",
        "    def __init__(self, battery_size=60):\n",
        "\n",
        "        self.battery_size = battery_size\n",
        "\n",
        "    def describe_battery(self):\n",
        "        print(\"This car has a \" + str(self.battery_size) + \"-kWh battery.\")\n",
        "\n",
        "    def get_range(self):\n",
        "        if self.battery_size == 70:\n",
        "            range_car = 240\n",
        "        elif self.battery_size == 85:\n",
        "            range_car = 270\n",
        "\n",
        "        message = \"This car can go approximately \" + str(range_car)\n",
        "        message += \" miles on a full charge.\"\n",
        "\n",
        "        print(message)\n",
        "\n",
        "\n",
        "class ElectricCar(Car):\n",
        "    def __init__(self, make, model, year):\n",
        "        super().__init__(make, model, year)\n",
        "        self.battery = Battery()\n",
        "\n",
        "\n"
      ],
      "metadata": {
        "id": "0-2JvoU7IWfT"
      },
      "execution_count": null,
      "outputs": []
    }
  ]
}