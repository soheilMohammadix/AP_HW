{
  "nbformat": 4,
  "nbformat_minor": 0,
  "metadata": {
    "colab": {
      "provenance": [],
      "authorship_tag": "ABX9TyNZHbFM8tSHZwUk/+/nps8V",
      "include_colab_link": true
    },
    "kernelspec": {
      "name": "python3",
      "display_name": "Python 3"
    },
    "language_info": {
      "name": "python"
    }
  },
  "cells": [
    {
      "cell_type": "markdown",
      "metadata": {
        "id": "view-in-github",
        "colab_type": "text"
      },
      "source": [
        "<a href=\"https://colab.research.google.com/github/soheilmohammadi1/AP_HW/blob/main/week_3.ipynb\" target=\"_parent\"><img src=\"https://colab.research.google.com/assets/colab-badge.svg\" alt=\"Open In Colab\"/></a>"
      ]
    },
    {
      "cell_type": "markdown",
      "source": [
        "1- An object is an instance of a class\n",
        "\n",
        "2- Other names for instance variables include attributes and ﬁelds.\n",
        "\n",
        "3- they are known also as operations. \n",
        "\n",
        "4- The period, pronounced dot, associates an object expression with the method to be called.\n",
        "\n",
        "5- Except for the object preﬁx, a method call works like a function call. It can return a value to its caller.\n",
        "\n",
        "6- strip : Returns a copy of the given string with the leading and trailing whitespace removed; if provided an optional string, the strip function strips leading and trailing characters found in the parameter string\n",
        "\n",
        "7- Len() function\n",
        "\n",
        "8- returns a ﬁle object (literally a TextIOWrapper object)\n",
        "\n",
        "9- \n",
        "• 'r' opens the ﬁle for reading\n",
        "\n",
        "• 'w' opens the ﬁle for writing; creates a new ﬁle\n",
        "\n",
        "• 'a' opens the ﬁle to append data to it\n",
        "\n",
        "12 - \n",
        "• __sub__, subtraction: f.__sub__(g) is equivalent to f - g\n",
        "\n",
        "• __eq__, relational quality: f.__eq__(g) is equivalent to f == g\n",
        "\n",
        "• __neg__, unary minus: f.__neg__() is equivalent to -f\n",
        "\n",
        "• __gt__, greater than: f.__gt__(g) is equivalent to f > g\n",
        "\n",
        "13-\n",
        "Behind the scenes the turtle module creates a global Turtle object which models the pen doing the drawing. The Turtle graphics functions such as left and pencolor manipulate this hidden Turtle object. We can create and use our own Turtle objects. This is useful if we wish to manage multiple pens simultaneously\n",
        "\n",
        "15- Instances of (int, float, str, and bool) classes are all immutable objects, which means an object of any these of these types cannot change its state after its creation. The integer 3 always is 3, for example, and the string object 'Fred' cannot change to 'Free'. Instances of the Fraction class are immutable also.\n",
        "\n",
        "16- basically we couldn't draw stuff by changing its attributes\n",
        "\n",
        "17- The term garbage is a technical term used in computer science that refers to memory allocated by an executing program that the program no longer can access\n",
        "\n",
        "18- The Python interpreter cleans up garbage through a process called garbage collection. Python uses a reference counting garbage collector that automatically reclaims the space occupied by abandoned objects.\n",
        "\n",
        "Reference counting garbage collection works as follows. All objects have an associated reference count. When the executing program creates a new object and assigns a variable to it, it sets the object’s reference count to 1.\n",
        "An object with a reference count of zero is garbage, and the 3 garbage collector automatically will reclaim the space held by the object so it can be recycled and used elsewhere.\n",
        "\n",
        "19- \n",
        " (a) -> 2, 'b' and 'c'\n",
        "\n",
        " (b) -> no since we changed the \"a\"'s value\n",
        " \n",
        " (c) -> Yes"
      ],
      "metadata": {
        "id": "ivpB9ZKd5jIv"
      }
    },
    {
      "cell_type": "code",
      "source": [
        "#10 - \n",
        "f = open('numbers.txt', 'w')\n",
        "for i in range(1, 101):\n",
        "    f.write(f'{i}\\n')\n",
        "f.close()\n"
      ],
      "metadata": {
        "id": "lOSqYC1gC8eP"
      },
      "execution_count": 1,
      "outputs": []
    },
    {
      "cell_type": "code",
      "source": [
        "#11 - \n",
        "def sumfile(filename):\n",
        "    f = open(filename, 'r')\n",
        "    total: int = 0\n",
        "    for line in f:\n",
        "        total += int(line)\n",
        "    f.close()\n",
        "    return total"
      ],
      "metadata": {
        "id": "yREzjLt3DGG4"
      },
      "execution_count": null,
      "outputs": []
    },
    {
      "cell_type": "code",
      "source": [
        "#14\n",
        "from turtle import *\n",
        "\n",
        "t = Turtle()\n",
        "\n",
        "\n",
        "def triangle():\n",
        "    for i in range(3):\n",
        "        t.forward(200)\n",
        "        t.left(120)\n",
        "\n",
        "\n",
        "def star():\n",
        "    for i in range(5):\n",
        "        t.forward(100)\n",
        "        t.right(144)\n",
        "\n",
        "\n",
        "def wave():\n",
        "    first = True\n",
        "    for i in range(10):\n",
        "        if first:\n",
        "            t.left(72)\n",
        "            first = False\n",
        "        else:\n",
        "            t.left(144)\n",
        "        t.forward(100)\n",
        "        t.right(144)\n",
        "        t.forward(100)\n",
        "\n",
        "\n",
        "def circle():\n",
        "    for i in range(36):\n",
        "        t.forward(10)\n",
        "        t.right(10)\n",
        "\n",
        "\n",
        "t.hideturtle()\n",
        "exitonclick()\n"
      ],
      "metadata": {
        "id": "ol99ASCBbEda"
      },
      "execution_count": null,
      "outputs": []
    }
  ]
}