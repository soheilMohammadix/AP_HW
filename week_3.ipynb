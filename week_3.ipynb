{
  "nbformat": 4,
  "nbformat_minor": 0,
  "metadata": {
    "colab": {
      "provenance": [],
      "authorship_tag": "ABX9TyMM2EN6wacRjvugjHZYRvvI",
      "include_colab_link": true
    },
    "kernelspec": {
      "name": "python3",
      "display_name": "Python 3"
    },
    "language_info": {
      "name": "python"
    }
  },
  "cells": [
    {
      "cell_type": "markdown",
      "metadata": {
        "id": "view-in-github",
        "colab_type": "text"
      },
      "source": [
        "<a href=\"https://colab.research.google.com/github/soheilmohammadi1/AP_HW/blob/main/week_3.ipynb\" target=\"_parent\"><img src=\"https://colab.research.google.com/assets/colab-badge.svg\" alt=\"Open In Colab\"/></a>"
      ]
    },
    {
      "cell_type": "markdown",
      "source": [
        "1- An object is an instance of a class\n",
        "\n",
        "2- Other names for instance variables include attributes and ﬁelds.\n",
        "\n",
        "3- they are known also as operations. \n",
        "\n",
        "4- The period, pronounced dot, associates an object expression with the method to be called.\n",
        "\n",
        "5- Except for the object preﬁx, a method call works like a function call. It can return a value to its caller.\n",
        "\n",
        "6- strip : Returns a copy of the given string with the leading and trailing whitespace removed; if provided an optional string, the strip function strips leading and trailing characters found in the parameter string\n",
        "\n",
        "7- Len() function\n",
        "\n",
        "8- returns a ﬁle object (literally a TextIOWrapper object)\n",
        "\n",
        "9- \n",
        "• 'r' opens the ﬁle for reading\n",
        "\n",
        "• 'w' opens the ﬁle for writing; creates a new ﬁle\n",
        "\n",
        "• 'a' opens the ﬁle to append data to it\n",
        "\n",
        "12 - \n",
        "• __sub__, subtraction: f.__sub__(g) is equivalent to f - g\n",
        "\n",
        "• __eq__, relational quality: f.__eq__(g) is equivalent to f == g\n",
        "\n",
        "• __neg__, unary minus: f.__neg__() is equivalent to -f\n",
        "\n",
        "• __gt__, greater than: f.__gt__(g) is equivalent to f > g\n",
        "\n",
        "13-\n",
        "Behind the scenes the turtle module creates a global Turtle object which models the pen doing the drawing. The Turtle graphics functions such as left and pencolor manipulate this hidden Turtle object. We can create and use our own Turtle objects. This is useful if we wish to manage multiple pens simultaneously\n",
        "\n"
      ],
      "metadata": {
        "id": "ivpB9ZKd5jIv"
      }
    },
    {
      "cell_type": "code",
      "source": [
        "#10 - \n",
        "f = open('numbers.txt', 'w')\n",
        "for i in range(1, 101):\n",
        "    f.write(f'{i}\\n')\n",
        "f.close()\n"
      ],
      "metadata": {
        "id": "lOSqYC1gC8eP"
      },
      "execution_count": 1,
      "outputs": []
    },
    {
      "cell_type": "code",
      "source": [
        "#11 - \n",
        "def sumfile(filename):\n",
        "    f = open(filename, 'r')\n",
        "    total: int = 0\n",
        "    for line in f:\n",
        "        total += int(line)\n",
        "    f.close()\n",
        "    return total"
      ],
      "metadata": {
        "id": "yREzjLt3DGG4"
      },
      "execution_count": null,
      "outputs": []
    }
  ]
}