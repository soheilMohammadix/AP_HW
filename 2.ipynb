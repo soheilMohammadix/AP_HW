{
  "nbformat": 4,
  "nbformat_minor": 0,
  "metadata": {
    "colab": {
      "provenance": [],
      "authorship_tag": "ABX9TyPEtFUUbfgm4vBlH398rkET",
      "include_colab_link": true
    },
    "kernelspec": {
      "name": "python3",
      "display_name": "Python 3"
    },
    "language_info": {
      "name": "python"
    }
  },
  "cells": [
    {
      "cell_type": "markdown",
      "metadata": {
        "id": "view-in-github",
        "colab_type": "text"
      },
      "source": [
        "<a href=\"https://colab.research.google.com/github/soheilmohammadi1/AP_HW/blob/main/2.ipynb\" target=\"_parent\"><img src=\"https://colab.research.google.com/assets/colab-badge.svg\" alt=\"Open In Colab\"/></a>"
      ]
    },
    {
      "cell_type": "markdown",
      "source": [
        "1 - True / False\n",
        "2 - The term Boolean comes from the name of the British mathematician George Boole. A branch of discrete mathematics called Boolean algebra is dedicated to the study of the properties and the manipulation of logical expressions. \n",
        "3 - every integer value except 0\n",
        "4 - 0\n",
        "5 - True\n",
        "6 - \n",
        "(a) True\n",
        "(b) True\n",
        "(c) False\n",
        "(d) True\n",
        "(e) False\n",
        "(f) True\n",
        "(g) True\n",
        "(h) False\n",
        "(i) False\n",
        "(j) True\n",
        "(k) True\n",
        "(I) False\n",
        "7 - \n",
        "(a) True\n",
        "(b) False\n",
        "(c) False\n",
        "(d) True\n",
        "(e) False\n",
        "(f) True\n",
        "(g) False\n",
        "(h) True\n",
        "(i) True\n",
        "(j) True\n",
        "(k) False\n",
        "(l) True\n",
        "(m) False\n",
        "(n) True\n",
        "(o) True\n",
        "(p) True\n",
        "(q) False\n",
        "(r) True\n",
        "(s) False\n",
        "(t) True\n",
        "(u) True\n",
        "(v) False\n",
        "(w) False\n",
        "(x) True\n",
        "(y) True\n",
        "(z) False\n",
        "8.\n",
        "(a) x != 2\n",
        "(b) x <= 2\n",
        "(c) x >= y\n",
        "(d) x > y\n",
        "(e) not ( 10 < x < 20 )\n",
        "(f) x > 10 or x < 20 ( you can't make it simpler )\n",
        "(g) x != 0 ( you can't make it simpler )\n",
        "(h) x == 0 ( you can't make it simpler )\n",
        "9 - \n",
        "(a) x != y\n",
        "(b) x <= y\n",
        "(c) x >= y\n",
        "(d) x < y\n",
        "(e) x > y\n",
        "(f) x == y\n",
        "(g) x == y\n",
        "(h) x != y and x >= 2\n",
        "(i) x != y or x >= 2\n",
        "(j) x == y\n",
        "10 - if True:\n",
        "11 - if False:\n",
        "12 to 14 have their own program box\n",
        "15 - \n",
        "(a) i = 5  j = 5  k = 7\n",
        "(b) i = 3  j = 5  k = 5\n",
        "(c) i = 5  j = 5  k = 7\n",
        "(d) i = 5  j = 3  k = 3\n",
        "(e) i = 7  j = 3  k = 3\n",
        "(f) i = 7  j = 5  k = 3\n",
        "16 - \n",
        "(a) wow 3\n",
        "(b) whoa 22\n",
        "(c) whoa 6\n",
        "(d) whoa 27\n",
        "(e) wow -5\n",
        "17 - \n",
        "(a) **** | *\n",
        "(b) *** | *\n",
        "(c) *** | *\n",
        "(d) ** | *\n",
        "(e) * | *\n",
        "(f) \n",
        "چون برنامه سمت چپ از if استفاده میکنه\n",
        "و تمامی شرط ها رو چک میکنه ولی سمت راست اولین شرطی که چک میکنه بقیه شرط ها رو دیگه بررسی نمیکنه\n"
      ],
      "metadata": {
        "id": "xJ8yRO-wuw4H"
      }
    },
    {
      "cell_type": "code",
      "source": [
        "# 12th question :\n",
        "x = int(input(\"Please input a number : \"))\n",
        "if 1 < x < 100:\n",
        "  print(\"OK\")\n",
        "\n"
      ],
      "metadata": {
        "colab": {
          "base_uri": "https://localhost:8080/"
        },
        "id": "FO_va0lMwKnh",
        "outputId": "e69cb95b-b1a9-4c61-9b64-b03187502ebd"
      },
      "execution_count": 7,
      "outputs": [
        {
          "name": "stdout",
          "output_type": "stream",
          "text": [
            "Please input a number : 120\n"
          ]
        }
      ]
    },
    {
      "cell_type": "code",
      "source": [
        "# 13th queestion :\n",
        "x = int(input(\"Please input a number : \"))\n",
        "if 1 < x < 100:\n",
        "  print(\"OK\")\n",
        "else:\n",
        "  print(\"Out of range.\")\n",
        "  "
      ],
      "metadata": {
        "colab": {
          "base_uri": "https://localhost:8080/"
        },
        "id": "rCq8DuDj8qFV",
        "outputId": "4d061036-7092-47ff-b25f-301339a90880"
      },
      "execution_count": 9,
      "outputs": [
        {
          "output_type": "stream",
          "name": "stdout",
          "text": [
            "Please input a number : 12\n",
            "OK\n"
          ]
        }
      ]
    },
    {
      "cell_type": "code",
      "source": [
        "# 14th question : \n",
        "\n",
        "english_day = input(\"Enter a day of the week in English: \").lower()\n",
        "\n",
        "if english_day == \"monday\":\n",
        "    spanish_day = \"lunes\"\n",
        "elif english_day == \"tuesday\":\n",
        "    spanish_day = \"martes\"\n",
        "elif english_day == \"wednesday\":\n",
        "    spanish_day = \"miércoles\"\n",
        "elif english_day == \"thursday\":\n",
        "    spanish_day = \"jueves\"\n",
        "elif english_day == \"friday\":\n",
        "    spanish_day = \"viernes\"\n",
        "elif english_day == \"saturday\":\n",
        "    spanish_day = \"sábado\"\n",
        "elif english_day == \"sunday\":\n",
        "    spanish_day = \"domingo\"\n",
        "else:\n",
        "    spanish_day = None\n",
        "\n",
        "if spanish_day:\n",
        "    print(f\"The Spanish equivalent of {english_day} is {spanish_day}.\")\n",
        "else:\n",
        "    print(f\"Sorry, there is no Spanish equivalent for {english_day}.\")\n"
      ],
      "metadata": {
        "colab": {
          "base_uri": "https://localhost:8080/"
        },
        "id": "zHKEUGrH92gO",
        "outputId": "43f3da6a-1ba6-42af-fdc3-6c3b098874bd"
      },
      "execution_count": 10,
      "outputs": [
        {
          "output_type": "stream",
          "name": "stdout",
          "text": [
            "Enter a day of the week in English: mOnDAY\n",
            "The Spanish equivalent of monday is lunes.\n"
          ]
        }
      ]
    },
    {
      "cell_type": "code",
      "source": [
        "# 18th question : \n",
        "\n",
        "numbers = []\n",
        "for i in range(5):\n",
        "    num = int(input(\"Enter an integer: \"))\n",
        "    numbers.append(num)\n",
        "\n",
        "maximum = numbers[0]\n",
        "minimum = numbers[0]\n",
        "for num in numbers:\n",
        "    if num > maximum:\n",
        "        maximum = num\n",
        "    elif num < minimum:\n",
        "        minimum = num\n",
        "\n",
        "print(\"Maximum value entered:\", maximum)\n",
        "print(\"Minimum value entered:\", minimum)\n"
      ],
      "metadata": {
        "colab": {
          "base_uri": "https://localhost:8080/"
        },
        "id": "64M64lVwInt0",
        "outputId": "d6afba37-0037-4482-f0c9-5110370315d0"
      },
      "execution_count": 11,
      "outputs": [
        {
          "output_type": "stream",
          "name": "stdout",
          "text": [
            "Enter an integer: 2\n",
            "Enter an integer: 6\n",
            "Enter an integer: 8\n",
            "Enter an integer: 0\n",
            "Enter an integer: 434\n",
            "Maximum value entered: 434\n",
            "Minimum value entered: 0\n"
          ]
        }
      ]
    },
    {
      "cell_type": "code",
      "source": [
        "\n",
        "num1 = int(input(\"Enter an integer: \"))\n",
        "num2 = int(input(\"Enter an integer: \"))\n",
        "num3 = int(input(\"Enter an integer: \"))\n",
        "num4 = int(input(\"Enter an integer: \"))\n",
        "num5 = int(input(\"Enter an integer: \"))\n",
        "\n",
        "if num1 == num2 or \\\n",
        "  num1 == num3 or \\\n",
        "  num1 == num4 or \\\n",
        "  num1 == num5 or \\\n",
        "  num2 == num3 or \\\n",
        "  num2 == num4 or \\\n",
        "  num2 == num5 or \\\n",
        "  num3 == num4 or \\\n",
        "  num3 == num5 or \\\n",
        "  num4 == num5:\n",
        "    print(\"DUPLICATES\")\n",
        "else:\n",
        "    print(\"ALL UNIQUE\")\n"
      ],
      "metadata": {
        "colab": {
          "base_uri": "https://localhost:8080/"
        },
        "id": "r0Yfq_C0JVeF",
        "outputId": "6d753655-baf4-49a6-efa7-33565fefaf04"
      },
      "execution_count": 12,
      "outputs": [
        {
          "output_type": "stream",
          "name": "stdout",
          "text": [
            "Enter an integer: 2\n",
            "Enter an integer: 6\n",
            "Enter an integer: 6\n",
            "Enter an integer: 7\n",
            "Enter an integer: 98\n",
            "DUPLICATES\n"
          ]
        }
      ]
    }
  ]
}